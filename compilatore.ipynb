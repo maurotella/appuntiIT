{
 "cells": [
  {
   "cell_type": "code",
   "execution_count": 96,
   "metadata": {},
   "outputs": [],
   "source": [
    "class IstruzioneRAM:\n",
    "    '''\n",
    "    tipo 1: Rk <- Rk + 1         | parametri: k\n",
    "    tipo 1: Rk <- Rk - 1         | parametri: k \n",
    "    tipo 3: IF Rk=0 THEN GOTO m  | parametri: k,m\n",
    "    '''\n",
    "    def __init__(self,tipo,parametri):\n",
    "        self.tipo = tipo\n",
    "        if (tipo==1 or tipo==2) and len(parametri)!=1:\n",
    "            raise Exception('nr parametri errato')\n",
    "        if tipo==3 and len(parametri)!=2: raise Exception('nr parametri errato')\n",
    "        self.parametri = parametri\n",
    "    def __str__(self):\n",
    "        if self.tipo==1: return f'R_{self.parametri[0]} <- R_{self.parametri[0]} + 1'\n",
    "        if self.tipo==2: return f'R_{self.parametri[0]} <- R_{self.parametri[0]} - 1'\n",
    "        else:            return f'IF R_{self.parametri[0]}=0 THEN GOTO {self.parametri[1]}'\n",
    "    \n",
    "class RAM:\n",
    "    def __init__(self,istruzioni,n):\n",
    "        self.R = [0,n] #registri\n",
    "        self.P = istruzioni #istruzioni\n",
    "    \n",
    "    def execute(self):\n",
    "        istruzione = self.P[0]\n",
    "        L = 0\n",
    "        #print(self.R)\n",
    "        while L!=-1:    #L=-1 -> stop programma\n",
    "            #print(f'eseguo istruzione {istruzione}')\n",
    "            tipo = istruzione.tipo\n",
    "            parametri = istruzione.parametri\n",
    "            if parametri[0]>len(self.R)-1:\n",
    "                self.R += [0]*(parametri[0]-len(self.R)+1)\n",
    "            if tipo==1:\n",
    "                self.R[parametri[0]]+=1\n",
    "                L+=1\n",
    "            if tipo==2:\n",
    "                self.R[parametri[0]]-=1\n",
    "                if self.R[parametri[0]]==-1:\n",
    "                    self.R[parametri[0]]=0\n",
    "                L+=1\n",
    "            if tipo==3:\n",
    "                if self.R[parametri[0]]==0:\n",
    "                    L=parametri[1]-1\n",
    "                else: \n",
    "                    L+=1\n",
    "            if L<len(self.P):\n",
    "                istruzione = self.P[L]\n",
    "            else:\n",
    "                L=-1\n",
    "            #print(f'{self.R} | {L}')\n",
    "        return self.R[0]\n",
    "    \n",
    "    def stato(self):\n",
    "        return f'{self.R}'\n",
    "    \n",
    "    def __str__(self):\n",
    "        S = ''\n",
    "        i = 1\n",
    "        for istr in self.P:\n",
    "            S += f'{i}\\t{istr.__str__()}\\n'\n",
    "            i+=1\n",
    "        return S"
   ]
  },
  {
   "cell_type": "code",
   "execution_count": 92,
   "metadata": {},
   "outputs": [],
   "source": [
    "Raddoppia = [\n",
    "    IstruzioneRAM(3,[1,6]),\n",
    "    IstruzioneRAM(1,[0]),\n",
    "    IstruzioneRAM(1,[0]),\n",
    "    IstruzioneRAM(2,[1]),\n",
    "    IstruzioneRAM(3,[2,1]),\n",
    "    IstruzioneRAM(2,[1])\n",
    "]"
   ]
  },
  {
   "cell_type": "code",
   "execution_count": 105,
   "metadata": {},
   "outputs": [
    {
     "name": "stdout",
     "output_type": "stream",
     "text": [
      "[0, 31]\n",
      "[0, 0, 0, 0, 0, 0, 0, 0, 0, 30, 0, 0, 0, 31, 0, 0, 0, 0, 0, 0, 0, 0, 0]\n"
     ]
    }
   ],
   "source": [
    "k=9\n",
    "j=13\n",
    "\n",
    "P = [\n",
    "    IstruzioneRAM(3,[1,5]),   # \n",
    "    IstruzioneRAM(1,[13]),    # \n",
    "    IstruzioneRAM(2,[1]),     #  R_13 = n\n",
    "    IstruzioneRAM(3,[21,1]),  #  \n",
    "    IstruzioneRAM(2,[21]),    #  \n",
    "    IstruzioneRAM(3,[j,10]),    #\n",
    "    IstruzioneRAM(1,[22]),      # \n",
    "    IstruzioneRAM(2,[j]),       #\n",
    "    IstruzioneRAM(3,[21,6]),    #\n",
    "    IstruzioneRAM(3,[k,13]),  # \n",
    "    IstruzioneRAM(2,[k]),     #  \n",
    "    IstruzioneRAM(3,[21,11]), # \n",
    "    IstruzioneRAM(3,[22,18]),   #\n",
    "    IstruzioneRAM(1,[k]),       #\n",
    "    IstruzioneRAM(1,[j]),       # \n",
    "    IstruzioneRAM(2,[22]),      #  \n",
    "    IstruzioneRAM(3,[21,13]),   #\n",
    "    IstruzioneRAM(2,[k]),     #  \n",
    "]\n",
    "\n",
    "E = RAM(P,31)\n",
    "\n",
    "print(E.stato())\n",
    "E.execute()\n",
    "print(E.stato())"
   ]
  }
 ],
 "metadata": {
  "kernelspec": {
   "display_name": "Python 3",
   "language": "python",
   "name": "python3"
  },
  "language_info": {
   "codemirror_mode": {
    "name": "ipython",
    "version": 3
   },
   "file_extension": ".py",
   "mimetype": "text/x-python",
   "name": "python",
   "nbconvert_exporter": "python",
   "pygments_lexer": "ipython3",
   "version": "3.12.1"
  }
 },
 "nbformat": 4,
 "nbformat_minor": 2
}
