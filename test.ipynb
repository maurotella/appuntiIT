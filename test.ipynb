{
 "cells": [
  {
   "cell_type": "code",
   "execution_count": 1,
   "metadata": {},
   "outputs": [],
   "source": [
    "import math"
   ]
  },
  {
   "cell_type": "code",
   "execution_count": 2,
   "metadata": {},
   "outputs": [],
   "source": [
    "def cantor(x,y):\n",
    "    return (x+y)*(x+y+1)/2+y+1"
   ]
  },
  {
   "cell_type": "code",
   "execution_count": 3,
   "metadata": {},
   "outputs": [
    {
     "data": {
      "text/plain": [
       "2533.0"
      ]
     },
     "execution_count": 3,
     "metadata": {},
     "output_type": "execute_result"
    }
   ],
   "source": [
    "cantor(23,47)"
   ]
  },
  {
   "cell_type": "code",
   "execution_count": 4,
   "metadata": {},
   "outputs": [],
   "source": [
    "def gamma(n):\n",
    "    return math.floor((-1+math.sqrt(8*n-7))/2)\n",
    "\n",
    "def des(n):\n",
    "    return n-cantor(gamma(n),0)\n",
    "\n",
    "def sin(n):\n",
    "    return gamma(n)-des(n)"
   ]
  },
  {
   "cell_type": "code",
   "execution_count": 5,
   "metadata": {},
   "outputs": [],
   "source": [
    "def cantor_n (lista):\n",
    "    if len(lista)==1: return cantor(lista[0],0)\n",
    "    return cantor(lista[0],cantor_n(lista[1:]))\n",
    "\n",
    "def decode_cantor_n(n):\n",
    "    if n!=0: \n",
    "        print(sin(n))\n",
    "        decode_cantor_n(des(n))"
   ]
  },
  {
   "cell_type": "code",
   "execution_count": 6,
   "metadata": {},
   "outputs": [
    {
     "data": {
      "text/plain": [
       "19508754133.0"
      ]
     },
     "execution_count": 6,
     "metadata": {},
     "output_type": "execute_result"
    }
   ],
   "source": [
    "x = cantor_n([23,2,5,7])\n",
    "x"
   ]
  },
  {
   "cell_type": "code",
   "execution_count": 7,
   "metadata": {},
   "outputs": [
    {
     "name": "stdout",
     "output_type": "stream",
     "text": [
      "23.0\n",
      "2.0\n",
      "5.0\n",
      "7.0\n"
     ]
    }
   ],
   "source": [
    "decode_cantor_n(x)"
   ]
  },
  {
   "cell_type": "code",
   "execution_count": 8,
   "metadata": {},
   "outputs": [],
   "source": [
    "def s(x):     return x+1\n",
    "def zero(*_):  return 0\n",
    "def pro(k):\n",
    "    def inner(x):\n",
    "        return x\n",
    "    return inner"
   ]
  },
  {
   "cell_type": "code",
   "execution_count": 9,
   "metadata": {},
   "outputs": [
    {
     "data": {
      "text/plain": [
       "0"
      ]
     },
     "execution_count": 9,
     "metadata": {},
     "output_type": "execute_result"
    }
   ],
   "source": [
    "def COMP(h,G,x):\n",
    "    return h(*[g(x) for g in G])\n",
    "\n",
    "def RP(h,g):\n",
    "    def f(X,y):\n",
    "        if type(X)==int: X=[X]\n",
    "        if y==0: return g(*X)\n",
    "        return h(f(X,y-1),y-1,*X)\n",
    "    return f\n",
    "\n",
    "def s3(x,_1,_2): return x+1\n",
    "\n",
    "somma = RP(s3,pro(1))\n",
    "\n",
    "def somma3(x,_,y): return somma(x,y)\n",
    "\n",
    "def pred(x): return 0 if x<1 else x-1 \n",
    "def pred3(x,a,b): return pred(x)\n",
    "\n",
    "prodotto = RP(somma3,zero)\n",
    "\n",
    "meno = RP(pred3,pro(1))\n",
    "\n",
    "meno(32,70)"
   ]
  },
  {
   "cell_type": "code",
   "execution_count": 10,
   "metadata": {},
   "outputs": [
    {
     "data": {
      "text/plain": [
       "14"
      ]
     },
     "execution_count": 10,
     "metadata": {},
     "output_type": "execute_result"
    }
   ],
   "source": [
    "def somma(x,y):\n",
    "    if y==0: return x\n",
    "    return s(somma(x,y-1))\n",
    "\n",
    "somma(3,11)"
   ]
  },
  {
   "cell_type": "code",
   "execution_count": 11,
   "metadata": {},
   "outputs": [
    {
     "data": {
      "text/plain": [
       "21"
      ]
     },
     "execution_count": 11,
     "metadata": {},
     "output_type": "execute_result"
    }
   ],
   "source": [
    "def prodotto(x,y):\n",
    "    if y==0: return 0\n",
    "    return somma(x,prodotto(x,y-1))\n",
    "\n",
    "prodotto(3,7)"
   ]
  },
  {
   "cell_type": "code",
   "execution_count": 16,
   "metadata": {},
   "outputs": [],
   "source": [
    "def Ackerman(m,n):\n",
    "    if m==0: return n+1\n",
    "    if n==0 and m>0: return Ackerman(m-1,1)\n",
    "    return Ackerman(m-1,Ackerman(m,n-1))"
   ]
  }
 ],
 "metadata": {
  "kernelspec": {
   "display_name": "Python 3",
   "language": "python",
   "name": "python3"
  },
  "language_info": {
   "codemirror_mode": {
    "name": "ipython",
    "version": 3
   },
   "file_extension": ".py",
   "mimetype": "text/x-python",
   "name": "python",
   "nbconvert_exporter": "python",
   "pygments_lexer": "ipython3",
   "version": "3.12.1"
  }
 },
 "nbformat": 4,
 "nbformat_minor": 2
}
